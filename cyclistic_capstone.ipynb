{
  "cells": [
    {
      "cell_type": "markdown",
      "metadata": {
        "id": "9CuAPrm7GZh-"
      },
      "source": [
        "# Cyclistic Bike-Share Analysis: Google Data Analytics Capstone\n",
        "\n",
        "**Business Task:**  \n",
        "Analyze how annual members and casual riders use Cyclistic bikes differently, and provide recommendations to help convert casual riders into annual members."
      ]
    },
    {
      "cell_type": "code",
      "execution_count": null,
      "metadata": {
        "colab": {
          "base_uri": "https://localhost:8080/"
        },
        "id": "sEMFlaVTF_uQ",
        "outputId": "f3965cca-d773-4ae6-9551-42a1d023ae91"
      },
      "outputs": [
        {
          "name": "stderr",
          "output_type": "stream",
          "text": [
            "Installing package into ‘/usr/local/lib/R/site-library’\n",
            "(as ‘lib’ is unspecified)\n",
            "\n",
            "Installing package into ‘/usr/local/lib/R/site-library’\n",
            "(as ‘lib’ is unspecified)\n",
            "\n",
            "Installing package into ‘/usr/local/lib/R/site-library’\n",
            "(as ‘lib’ is unspecified)\n",
            "\n",
            "also installing the dependency ‘snakecase’\n",
            "\n",
            "\n",
            "\n",
            "Attaching package: ‘janitor’\n",
            "\n",
            "\n",
            "The following objects are masked from ‘package:stats’:\n",
            "\n",
            "    chisq.test, fisher.test\n",
            "\n",
            "\n"
          ]
        }
      ],
      "source": [
        "# Install packages if not already installed\n",
        "# install.packages(\"tidyverse\")\n",
        "# install.packages(\"lubridate\")\n",
        "# install.packages(\"janitor\")\n",
        "\n",
        "library(tidyverse)\n",
        "library(lubridate)\n",
        "library(janitor)\n"
      ]
    },
    {
      "cell_type": "markdown",
      "metadata": {
        "id": "aqCa_H43GrfX"
      },
      "source": [
        "## Data Source\n",
        "\n",
        "We used Cyclistic trip data from:\n",
        "- Q1 2019: `Divvy_Trips_2019_Q1.csv`\n",
        "- Q1 2020: `Divvy_Trips_2020_Q1.csv`\n"
      ]
    },
    {
      "cell_type": "code",
      "execution_count": null,
      "metadata": {
        "colab": {
          "base_uri": "https://localhost:8080/"
        },
        "id": "jsqoBHhNGsd4",
        "outputId": "98608a3c-6376-4a03-8a72-180e7e8e7376"
      },
      "outputs": [
        {
          "name": "stderr",
          "output_type": "stream",
          "text": [
            "\u001b[1mRows: \u001b[22m\u001b[34m298576\u001b[39m \u001b[1mColumns: \u001b[22m\u001b[34m12\u001b[39m\n",
            "\u001b[36m──\u001b[39m \u001b[1mColumn specification\u001b[22m \u001b[36m────────────────────────────────────────────────────────\u001b[39m\n",
            "\u001b[1mDelimiter:\u001b[22m \",\"\n",
            "\u001b[31mchr\u001b[39m (6): start_time, end_time, from_station_name, to_station_name, usertype,...\n",
            "\u001b[32mdbl\u001b[39m (5): trip_id, bikeid, from_station_id, to_station_id, birthyear\n",
            "\u001b[32mnum\u001b[39m (1): tripduration\n",
            "\n",
            "\u001b[36mℹ\u001b[39m Use `spec()` to retrieve the full column specification for this data.\n",
            "\u001b[36mℹ\u001b[39m Specify the column types or set `show_col_types = FALSE` to quiet this message.\n",
            "\u001b[1mRows: \u001b[22m\u001b[34m300355\u001b[39m \u001b[1mColumns: \u001b[22m\u001b[34m13\u001b[39m\n",
            "\u001b[36m──\u001b[39m \u001b[1mColumn specification\u001b[22m \u001b[36m────────────────────────────────────────────────────────\u001b[39m\n",
            "\u001b[1mDelimiter:\u001b[22m \",\"\n",
            "\u001b[31mchr\u001b[39m (7): ride_id, rideable_type, started_at, ended_at, start_station_name, e...\n",
            "\u001b[32mdbl\u001b[39m (6): start_station_id, end_station_id, start_lat, start_lng, end_lat, en...\n",
            "\n",
            "\u001b[36mℹ\u001b[39m Use `spec()` to retrieve the full column specification for this data.\n",
            "\u001b[36mℹ\u001b[39m Specify the column types or set `show_col_types = FALSE` to quiet this message.\n"
          ]
        }
      ],
      "source": [
        "divvy_2019_q1 <- read_csv(\"Divvy_Trips_2019_Q1.csv\")\n",
        "divvy_2020_q1 <- read_csv(\"Divvy_Trips_2020_Q1.csv\")\n"
      ]
    },
    {
      "cell_type": "markdown",
      "metadata": {
        "id": "BMoUhe6UJQJf"
      },
      "source": [
        "## Data Cleaning\n",
        "\n",
        "We clean and transform both datasets to a consistent format and add new variables.\n"
      ]
    },
    {
      "cell_type": "code",
      "execution_count": null,
      "metadata": {
        "id": "hSQVIZ6wJRR6"
      },
      "outputs": [],
      "source": [
        "divvy_2019_q1_clean <- divvy_2019_q1 %>%\n",
        "  rename(\n",
        "    ride_id = trip_id,\n",
        "    rideable_type = bikeid,\n",
        "    started_at = start_time,\n",
        "    ended_at = end_time,\n",
        "    start_station_name = from_station_name,\n",
        "    end_station_name = to_station_name,\n",
        "    user_type = usertype\n",
        "  ) %>%\n",
        "  mutate(\n",
        "    ride_id = as.character(ride_id),\n",
        "    rideable_type = \"classic_bike\",  # overwrite to match 2020 format\n",
        "    started_at = ymd_hms(started_at),\n",
        "    ended_at = ymd_hms(ended_at),\n",
        "    ride_length = as.numeric(difftime(ended_at, started_at, units = \"mins\")),\n",
        "    member_casual = if_else(user_type == \"Subscriber\", \"member\", \"casual\")\n",
        "  ) %>%\n",
        "  select(ride_id, rideable_type, started_at, ended_at,\n",
        "         start_station_name, end_station_name, member_casual, ride_length)\n"
      ]
    },
    {
      "cell_type": "code",
      "execution_count": null,
      "metadata": {
        "id": "917zURQ1JWCs"
      },
      "outputs": [],
      "source": [
        "divvy_2020_q1_clean <- divvy_2020_q1 %>%\n",
        "  mutate(\n",
        "    started_at = ymd_hms(started_at),\n",
        "    ended_at = ymd_hms(ended_at),\n",
        "    ride_length = as.numeric(difftime(ended_at, started_at, units = \"mins\"))\n",
        "  ) %>%\n",
        "  select(ride_id, rideable_type, started_at, ended_at,\n",
        "         start_station_name, end_station_name, member_casual, ride_length)\n"
      ]
    },
    {
      "cell_type": "markdown",
      "metadata": {
        "id": "YSo67D3fJavH"
      },
      "source": [
        "## Combine Data\n"
      ]
    },
    {
      "cell_type": "code",
      "execution_count": null,
      "metadata": {
        "id": "B0OFKuc9JZzX"
      },
      "outputs": [],
      "source": [
        "all_trips <- bind_rows(divvy_2019_q1_clean, divvy_2020_q1_clean)\n"
      ]
    },
    {
      "cell_type": "markdown",
      "metadata": {
        "id": "LipMlMJ_JezZ"
      },
      "source": [
        "## Data Summary: Ride Length Statistics by User Type\n"
      ]
    },
    {
      "cell_type": "code",
      "execution_count": null,
      "metadata": {
        "colab": {
          "base_uri": "https://localhost:8080/",
          "height": 161
        },
        "id": "lX3oIN_TJgbz",
        "outputId": "ed585527-d345-40c0-f65b-02d9e906bb8d"
      },
      "outputs": [
        {
          "data": {
            "text/html": [
              "<table class=\"dataframe\">\n",
              "<caption>A tibble: 2 × 5</caption>\n",
              "<thead>\n",
              "\t<tr><th scope=col>member_casual</th><th scope=col>avg_ride_length</th><th scope=col>median_ride_length</th><th scope=col>max_ride_length</th><th scope=col>min_ride_length</th></tr>\n",
              "\t<tr><th scope=col>&lt;chr&gt;</th><th scope=col>&lt;dbl&gt;</th><th scope=col>&lt;dbl&gt;</th><th scope=col>&lt;dbl&gt;</th><th scope=col>&lt;dbl&gt;</th></tr>\n",
              "</thead>\n",
              "<tbody>\n",
              "\t<tr><td>casual</td><td>103.92925</td><td>20.600000</td><td>177200.4</td><td>-1.55000000</td></tr>\n",
              "\t<tr><td>member</td><td> 13.09484</td><td> 8.283333</td><td>101607.1</td><td> 0.01666667</td></tr>\n",
              "</tbody>\n",
              "</table>\n"
            ],
            "text/latex": [
              "A tibble: 2 × 5\n",
              "\\begin{tabular}{lllll}\n",
              " member\\_casual & avg\\_ride\\_length & median\\_ride\\_length & max\\_ride\\_length & min\\_ride\\_length\\\\\n",
              " <chr> & <dbl> & <dbl> & <dbl> & <dbl>\\\\\n",
              "\\hline\n",
              "\t casual & 103.92925 & 20.600000 & 177200.4 & -1.55000000\\\\\n",
              "\t member &  13.09484 &  8.283333 & 101607.1 &  0.01666667\\\\\n",
              "\\end{tabular}\n"
            ],
            "text/markdown": [
              "\n",
              "A tibble: 2 × 5\n",
              "\n",
              "| member_casual &lt;chr&gt; | avg_ride_length &lt;dbl&gt; | median_ride_length &lt;dbl&gt; | max_ride_length &lt;dbl&gt; | min_ride_length &lt;dbl&gt; |\n",
              "|---|---|---|---|---|\n",
              "| casual | 103.92925 | 20.600000 | 177200.4 | -1.55000000 |\n",
              "| member |  13.09484 |  8.283333 | 101607.1 |  0.01666667 |\n",
              "\n"
            ],
            "text/plain": [
              "  member_casual avg_ride_length median_ride_length max_ride_length\n",
              "1 casual        103.92925       20.600000          177200.4       \n",
              "2 member         13.09484        8.283333          101607.1       \n",
              "  min_ride_length\n",
              "1 -1.55000000    \n",
              "2  0.01666667    "
            ]
          },
          "metadata": {},
          "output_type": "display_data"
        }
      ],
      "source": [
        "ride_length_summary <- all_trips %>%\n",
        "  group_by(member_casual) %>%\n",
        "  summarise(\n",
        "    avg_ride_length = mean(ride_length, na.rm = TRUE),\n",
        "    median_ride_length = median(ride_length, na.rm = TRUE),\n",
        "    max_ride_length = max(ride_length, na.rm = TRUE),\n",
        "    min_ride_length = min(ride_length, na.rm = TRUE)\n",
        "  )\n",
        "\n",
        "ride_length_summary\n"
      ]
    },
    {
      "cell_type": "markdown",
      "metadata": {
        "id": "QbPh1i3BJl9L"
      },
      "source": [
        "## Visualization: Ride Length Distribution (Filtered)\n"
      ]
    },
    {
      "cell_type": "code",
      "execution_count": null,
      "metadata": {
        "colab": {
          "base_uri": "https://localhost:8080/",
          "height": 437
        },
        "id": "hF_4_StjJm0X",
        "outputId": "9387881f-2eb4-4bfd-c011-464a105248ac"
      },
      "outputs": [
        {
          "data": {
            "image/png": "[encoded data removed]",
            "text/plain": [
              "plot without title"
            ]
          },
          "metadata": {
            "image/png": {
              "height": 420,
              "width": 420
            }
          },
          "output_type": "display_data"
        }
      ],
      "source": [
        "filtered_trips <- all_trips %>%\n",
        "  filter(ride_length > 0, ride_length <= 100)\n",
        "\n",
        "ggplot(filtered_trips, aes(x = ride_length, fill = member_casual)) +\n",
        "  geom_histogram(binwidth = 2, alpha = 0.7, position = \"identity\") +\n",
        "  labs(title = \"Distribution of Ride Length by User Type (Filtered)\",\n",
        "       x = \"Ride Length (mins)\", y = \"Count\") +\n",
        "  theme_minimal()\n"
      ]
    },
    {
      "cell_type": "markdown",
      "metadata": {
        "id": "OY7rtxOZOMQO"
      },
      "source": [
        "## Weekly Ride Patterns by Member Type\n"
      ]
    },
    {
      "cell_type": "code",
      "execution_count": null,
      "metadata": {
        "colab": {
          "base_uri": "https://localhost:8080/",
          "height": 472
        },
        "id": "84dsUpw8ONCh",
        "outputId": "8deb704f-202e-4897-ec2f-c03a936f8f76"
      },
      "outputs": [
        {
          "name": "stderr",
          "output_type": "stream",
          "text": [
            "\u001b[1m\u001b[22m`summarise()` has grouped output by 'day_of_week'. You can override using the\n",
            "`.groups` argument.\n"
          ]
        },
        {
          "data": {
            "image/png": "[encoded data removed]",
            "text/plain": [
              "plot without title"
            ]
          },
          "metadata": {
            "image/png": {
              "height": 420,
              "width": 420
            }
          },
          "output_type": "display_data"
        }
      ],
      "source": [
        "all_trips <- all_trips %>%\n",
        "  mutate(day_of_week = wday(started_at, label = TRUE))\n",
        "\n",
        "weekly_rides_by_type <- all_trips %>%\n",
        "  group_by(day_of_week, member_casual) %>%\n",
        "  summarise(ride_count = n())\n",
        "\n",
        "ggplot(weekly_rides_by_type, aes(x = day_of_week, y = ride_count, fill = member_casual)) +\n",
        "  geom_bar(stat = \"identity\", position = \"dodge\") +\n",
        "  labs(title = \"Number of Rides by Day of the Week and Member Type\",\n",
        "       x = \"Day of Week\", y = \"Number of Rides\") +\n",
        "  theme_minimal()\n"
      ]
    },
    {
      "cell_type": "markdown",
      "metadata": {
        "id": "Dsd8uN-bOQnG"
      },
      "source": [
        "## Ride Length Comparison: Weekday vs Weekend (Casual Riders)\n"
      ]
    },
    {
      "cell_type": "code",
      "execution_count": null,
      "metadata": {
        "colab": {
          "base_uri": "https://localhost:8080/",
          "height": 161
        },
        "id": "0PMJDf80ORjN",
        "outputId": "0a8ae177-b947-4b43-9d29-962ec5d6cfcc"
      },
      "outputs": [
        {
          "data": {
            "text/html": [
              "<table class=\"dataframe\">\n",
              "<caption>A tibble: 2 × 2</caption>\n",
              "<thead>\n",
              "\t<tr><th scope=col>weekend</th><th scope=col>avg_ride_length</th></tr>\n",
              "\t<tr><th scope=col>&lt;chr&gt;</th><th scope=col>&lt;dbl&gt;</th></tr>\n",
              "</thead>\n",
              "<tbody>\n",
              "\t<tr><td>Weekday</td><td>107.16886</td></tr>\n",
              "\t<tr><td>Weekend</td><td> 99.95385</td></tr>\n",
              "</tbody>\n",
              "</table>\n"
            ],
            "text/latex": [
              "A tibble: 2 × 2\n",
              "\\begin{tabular}{ll}\n",
              " weekend & avg\\_ride\\_length\\\\\n",
              " <chr> & <dbl>\\\\\n",
              "\\hline\n",
              "\t Weekday & 107.16886\\\\\n",
              "\t Weekend &  99.95385\\\\\n",
              "\\end{tabular}\n"
            ],
            "text/markdown": [
              "\n",
              "A tibble: 2 × 2\n",
              "\n",
              "| weekend &lt;chr&gt; | avg_ride_length &lt;dbl&gt; |\n",
              "|---|---|\n",
              "| Weekday | 107.16886 |\n",
              "| Weekend |  99.95385 |\n",
              "\n"
            ],
            "text/plain": [
              "  weekend avg_ride_length\n",
              "1 Weekday 107.16886      \n",
              "2 Weekend  99.95385      "
            ]
          },
          "metadata": {},
          "output_type": "display_data"
        }
      ],
      "source": [
        "all_trips <- all_trips %>%\n",
        "  mutate(weekend = if_else(day_of_week %in% c(\"Sat\", \"Sun\"), \"Weekend\", \"Weekday\"))\n",
        "\n",
        "casual_weekend_ride_length <- all_trips %>%\n",
        "  filter(member_casual == \"casual\") %>%\n",
        "  group_by(weekend) %>%\n",
        "  summarise(avg_ride_length = mean(ride_length, na.rm = TRUE))\n",
        "\n",
        "casual_weekend_ride_length\n"
      ]
    },
    {
      "cell_type": "markdown",
      "metadata": {
        "id": "i_bD8EVpOcaC"
      },
      "source": [
        "## Insights Summary\n",
        "\n",
        "- Casual riders take longer rides on average than members.\n",
        "- Members ride more frequently during weekdays (possibly for commuting).\n",
        "- Casual riders ride more during weekends, indicating leisure usage.\n",
        "\n",
        "These patterns highlight distinct usage behaviors, useful for targeted marketing.\n"
      ]
    },
    {
      "cell_type": "markdown",
      "metadata": {
        "id": "Pq2mSOicOfIQ"
      },
      "source": [
        "## Recommendations\n",
        "\n",
        "1. **Weekend Membership Promotions**  \n",
        "   Offer targeted discounts for casual riders who frequently ride on weekends.\n",
        "\n",
        "2. **Leisure-Focused Digital Ads**  \n",
        "   Promote annual plans with messaging around flexibility and long leisure rides.\n",
        "\n",
        "3. **Personalized Nudges via App**  \n",
        "   Suggest membership based on frequent usage or long ride patterns.\n",
        "\n",
        "These strategies align with the goal of converting casual users into loyal annual members.\n"
      ]
    }
  ],
  "metadata": {
    "colab": {
      "provenance": []
    },
    "kernelspec": {
      "display_name": ".venv",
      "language": "python",
      "name": "python3"
    },
    "language_info": {
      "name": "python",
      "version": "3.11.9"
    }
  },
  "nbformat": 4,
  "nbformat_minor": 0
}
